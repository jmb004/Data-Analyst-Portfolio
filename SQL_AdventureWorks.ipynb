{
 "cells": [
  {
   "cell_type": "code",
   "execution_count": 2,
   "id": "39684a0e",
   "metadata": {
    "hide_input": false
   },
   "outputs": [],
   "source": [
    "#https://docs.microsoft.com/en-us/sql/connect/python/pyodbc/step-3-proof-of-concept-connecting-to-sql-using-pyodbc?view=sql-server-ver15"
   ]
  },
  {
   "cell_type": "markdown",
   "id": "573b83b8",
   "metadata": {},
   "source": [
    "# Import Modules"
   ]
  },
  {
   "cell_type": "code",
   "execution_count": 3,
   "id": "62728520",
   "metadata": {},
   "outputs": [],
   "source": [
    "#import modules\n",
    "import pyodbc"
   ]
  },
  {
   "cell_type": "markdown",
   "id": "d182a3bd",
   "metadata": {},
   "source": [
    "# Connect to server using WindowsAuth"
   ]
  },
  {
   "cell_type": "code",
   "execution_count": 4,
   "id": "d1960a9c",
   "metadata": {},
   "outputs": [],
   "source": [
    "# set-up connection\n",
    "cnxn = pyodbc.connect(r'Driver=SQL Server; Server=localhost; Database=AdventureWorks2019; Trusted_Connection=yes;')\n",
    "cursor = cnxn.cursor()"
   ]
  },
  {
   "cell_type": "markdown",
   "id": "cd096d64",
   "metadata": {},
   "source": [
    "# Execute a test query on the database"
   ]
  },
  {
   "cell_type": "code",
   "execution_count": 5,
   "id": "08af53e3",
   "metadata": {},
   "outputs": [
    {
     "name": "stdout",
     "output_type": "stream",
     "text": [
      "Microsoft SQL Server 2019 (RTM-CU11) (KB5003249) - 15.0.4138.2 (X64) \n",
      "\tMay 27 2021 17:34:14 \n",
      "\tCopyright (C) 2019 Microsoft Corporation\n",
      "\tEnterprise Evaluation Edition (64-bit) on Windows 10 Pro 10.0 <X64> (Build 19043: ) (Hypervisor)\n",
      "\n"
     ]
    }
   ],
   "source": [
    "#Sample select query\n",
    "# This function accepts a query and returns a result set, which can be iterated over with the use of cursor.fetchone()\n",
    "cursor.execute(\"SELECT @@version;\") \n",
    "\n",
    "row = cursor.fetchone() \n",
    "\n",
    "while row: \n",
    "    print(row[0])\n",
    "    row = cursor.fetchone()"
   ]
  },
  {
   "cell_type": "markdown",
   "id": "f1740652",
   "metadata": {},
   "source": [
    "# CRUD commands"
   ]
  },
  {
   "cell_type": "markdown",
   "id": "2d79f32b",
   "metadata": {},
   "source": [
    "## Create"
   ]
  },
  {
   "cell_type": "code",
   "execution_count": 6,
   "id": "d90efe1f",
   "metadata": {},
   "outputs": [
    {
     "name": "stdout",
     "output_type": "stream",
     "text": [
      "Setting up CRUD commands...\n",
      "Successfully selected database!\n"
     ]
    }
   ],
   "source": [
    "print ('Setting up CRUD commands...')\n",
    "\n",
    "# Set up database\n",
    "tsql =(\"USE AdventureWorks2019;\")\n",
    "\n",
    "try:\n",
    "    with cursor.execute(tsql):\n",
    "        print ('Successfully selected database!')\n",
    "except:\n",
    "    print(\"Error in code. Could not select db.\")"
   ]
  },
  {
   "cell_type": "code",
   "execution_count": 7,
   "id": "573f2736",
   "metadata": {},
   "outputs": [
    {
     "name": "stdout",
     "output_type": "stream",
     "text": [
      "Creating table...\n",
      "Successfully created table!\n"
     ]
    }
   ],
   "source": [
    "print ('Creating table...')\n",
    "\n",
    "#Create Table\n",
    "tsql =(\"CREATE TABLE table_py( id INT PRIMARY KEY, Name VARCHAR(100), Date DATE, Age INT);\")\n",
    "\n",
    "try:\n",
    "    with cursor.execute(tsql):\n",
    "        print ('Successfully created table!')\n",
    "\n",
    "except:\n",
    "    print(\"Error in code. Could not create db.\")"
   ]
  },
  {
   "cell_type": "markdown",
   "id": "5ada050d",
   "metadata": {},
   "source": [
    "## Update"
   ]
  },
  {
   "cell_type": "code",
   "execution_count": 8,
   "id": "0019f83d",
   "metadata": {},
   "outputs": [
    {
     "name": "stdout",
     "output_type": "stream",
     "text": [
      "Inserting a new row into table...\n",
      "Successfully Inserted!\n",
      "Rows inserted: INSERT INTO dbo.table_py (id, Name, Date, Age) VALUES (?,?,?,?);\n"
     ]
    }
   ],
   "source": [
    "print ('Inserting a new row into table...')\n",
    "\n",
    "#Insert Query\n",
    "tsql = \"INSERT INTO dbo.table_py (id, Name, Date, Age) VALUES (?,?,?,?);\"\n",
    "\n",
    "try:\n",
    "    cursor.execute(tsql,'1','Jake','10-09-2020','23').rowcount  \n",
    "    cnxn.commit()\n",
    "    print ('Successfully Inserted!')\n",
    "    print('Rows inserted: ' + str(tsql))\n",
    "\n",
    "except:\n",
    "    print(\"Error in code. Could not insert.\")"
   ]
  },
  {
   "cell_type": "code",
   "execution_count": 9,
   "id": "a0032e97",
   "metadata": {},
   "outputs": [
    {
     "name": "stdout",
     "output_type": "stream",
     "text": [
      "Updating field for record...\n",
      "Successfully Updated!\n"
     ]
    }
   ],
   "source": [
    "#Update Query\n",
    "print ('Updating field for record...')\n",
    "\n",
    "tsql = \"UPDATE dbo.table_py SET Name = ? WHERE Name = ?\"\n",
    "\n",
    "with cursor.execute(tsql,'Joe Balog','Jake'):\n",
    "    print ('Successfully Updated!')\n"
   ]
  },
  {
   "cell_type": "markdown",
   "id": "1359d17f",
   "metadata": {},
   "source": [
    "## Read"
   ]
  },
  {
   "cell_type": "code",
   "execution_count": 10,
   "id": "122c76de",
   "metadata": {},
   "outputs": [
    {
     "name": "stdout",
     "output_type": "stream",
     "text": [
      "Querying data from table...\n",
      "(1, 'Joe Balog', '2020-10-09', 23)\n"
     ]
    }
   ],
   "source": [
    "#Read: Select Query\n",
    "print ('Querying data from table...')\n",
    "\n",
    "tsql = \"SELECT Top(10) * FROM dbo.table_py;\"\n",
    "\n",
    "with cursor.execute(tsql):\n",
    "    row = cursor.fetchone()\n",
    "    while row:\n",
    "        print (str(row[:]))\n",
    "        row = cursor.fetchone()"
   ]
  },
  {
   "cell_type": "markdown",
   "id": "ccb7ff5b",
   "metadata": {},
   "source": [
    "## Delete"
   ]
  },
  {
   "cell_type": "code",
   "execution_count": 11,
   "id": "314d2b72",
   "metadata": {},
   "outputs": [
    {
     "name": "stdout",
     "output_type": "stream",
     "text": [
      "Deleting Name....\n",
      "Successfully Deleted!\n"
     ]
    }
   ],
   "source": [
    "#Delete Query\n",
    "print ('Deleting Name....')\n",
    "\n",
    "tsql = \"DELETE FROM dbo.table_py WHERE Name = ?\"\n",
    "\n",
    "with cursor.execute(tsql,'Joe Balog'):\n",
    "    print ('Successfully Deleted!')"
   ]
  },
  {
   "cell_type": "code",
   "execution_count": 12,
   "id": "883b2554",
   "metadata": {},
   "outputs": [
    {
     "name": "stdout",
     "output_type": "stream",
     "text": [
      "Reading data from table...\n"
     ]
    }
   ],
   "source": [
    "#Check the drop\n",
    "print ('Reading data from table...')\n",
    "\n",
    "tsql = \"SELECT Top(10) * FROM dbo.table_py;\"\n",
    "\n",
    "with cursor.execute(tsql):\n",
    "    row = cursor.fetchone()\n",
    "    while row:\n",
    "        print (str(row[:]))\n",
    "        row = cursor.fetchone()"
   ]
  },
  {
   "cell_type": "code",
   "execution_count": 13,
   "id": "a8d15f2a",
   "metadata": {},
   "outputs": [
    {
     "name": "stdout",
     "output_type": "stream",
     "text": [
      "Drop table...\n",
      "Successfully dropped existing table!\n"
     ]
    }
   ],
   "source": [
    "print ('Drop table...')\n",
    "\n",
    "# Delete table\n",
    "tsql =(\"DROP TABLE IF EXISTS dbo.table_py;\")\n",
    "try:\n",
    "    with cursor.execute(tsql):\n",
    "        print ('Successfully dropped existing table!')\n",
    "except:\n",
    "    print(\"Error in code. Could not delete table.\")"
   ]
  },
  {
   "cell_type": "code",
   "execution_count": 14,
   "id": "f515c0aa",
   "metadata": {},
   "outputs": [
    {
     "name": "stdout",
     "output_type": "stream",
     "text": [
      "Reading data from table...\n",
      "Table successfully deleted.\n"
     ]
    }
   ],
   "source": [
    "#Check the drop\n",
    "print ('Reading data from table...')\n",
    "\n",
    "tsql = \"SELECT Top(10) * FROM dbo.table_py;\"\n",
    "\n",
    "try:\n",
    "    with cursor.execute(tsql):\n",
    "        row = cursor.fetchone()\n",
    "        while row:\n",
    "            print (str(row[:]))\n",
    "            row = cursor.fetchone()\n",
    "\n",
    "except:\n",
    "    print(\"Table successfully deleted.\")"
   ]
  }
 ],
 "metadata": {
  "kernelspec": {
   "display_name": "Python 3 (ipykernel)",
   "language": "python",
   "name": "python3"
  },
  "language_info": {
   "codemirror_mode": {
    "name": "ipython",
    "version": 3
   },
   "file_extension": ".py",
   "mimetype": "text/x-python",
   "name": "python",
   "nbconvert_exporter": "python",
   "pygments_lexer": "ipython3",
   "version": "3.8.8"
  },
  "toc": {
   "base_numbering": 1,
   "nav_menu": {},
   "number_sections": true,
   "sideBar": true,
   "skip_h1_title": false,
   "title_cell": "Table of Contents",
   "title_sidebar": "Contents",
   "toc_cell": false,
   "toc_position": {},
   "toc_section_display": true,
   "toc_window_display": false
  },
  "varInspector": {
   "cols": {
    "lenName": 16,
    "lenType": 16,
    "lenVar": 40
   },
   "kernels_config": {
    "python": {
     "delete_cmd_postfix": "",
     "delete_cmd_prefix": "del ",
     "library": "var_list.py",
     "varRefreshCmd": "print(var_dic_list())"
    },
    "r": {
     "delete_cmd_postfix": ") ",
     "delete_cmd_prefix": "rm(",
     "library": "var_list.r",
     "varRefreshCmd": "cat(var_dic_list()) "
    }
   },
   "types_to_exclude": [
    "module",
    "function",
    "builtin_function_or_method",
    "instance",
    "_Feature"
   ],
   "window_display": false
  }
 },
 "nbformat": 4,
 "nbformat_minor": 5
}
